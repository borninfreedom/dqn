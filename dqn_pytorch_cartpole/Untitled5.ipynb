{
 "cells": [
  {
   "cell_type": "code",
   "execution_count": null,
   "metadata": {},
   "outputs": [
    {
     "name": "stdout",
     "output_type": "stream",
     "text": [
      "please input:3.2 1.2\n",
      "4.4\n",
      "please input:1.1 2.2\n",
      "3.3000000000000003\n",
      "please input:1.1 3.3\n",
      "4.4\n",
      "please input:4.4 2.2\n",
      "6.6000000000000005\n"
     ]
    }
   ],
   "source": [
    "while True:\n",
    "    a=input('please input:')\n",
    "    if a =='q':\n",
    "        break\n",
    "    else:\n",
    "        a,b=map(float,a.split())\n",
    "        print(a+b)"
   ]
  },
  {
   "cell_type": "code",
   "execution_count": null,
   "metadata": {},
   "outputs": [],
   "source": []
  }
 ],
 "metadata": {
  "kernelspec": {
   "display_name": "Python 3",
   "language": "python",
   "name": "python3"
  }
 },
 "nbformat": 4,
 "nbformat_minor": 2
}
