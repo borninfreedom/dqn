{
 "cells": [
  {
   "cell_type": "code",
   "execution_count": 1,
   "metadata": {},
   "outputs": [],
   "source": [
    "import gym\n",
    "from gym import wrappers\n",
    "import random\n",
    "import math\n",
    "import torch\n",
    "import torch.nn as nn\n",
    "import torch.optim as optim\n",
    "from torch.autograd import Variable\n",
    "import torch.nn.functional as F\n",
    "import matplotlib.pyplot as plt"
   ]
  },
  {
   "cell_type": "code",
   "execution_count": 2,
   "metadata": {},
   "outputs": [
    {
     "name": "stderr",
     "output_type": "stream",
     "text": [
      "/home/yan/myProjects/dqn/dqn_pytorch_cartpole/lib/python3.7/site-packages/torch/cuda/__init__.py:52: UserWarning: CUDA initialization: Found no NVIDIA driver on your system. Please check that you have an NVIDIA GPU and installed a driver from http://www.nvidia.com/Download/index.aspx (Triggered internally at  /pytorch/c10/cuda/CUDAFunctions.cpp:100.)\n",
      "  return torch._C._cuda_getDeviceCount() > 0\n"
     ]
    }
   ],
   "source": [
    "# hyper parameters\n",
    "EPISODES = 200  # number of episodes\n",
    "EPS_START = 0.9  # e-greedy threshold start value\n",
    "EPS_END = 0.05  # e-greedy threshold end value\n",
    "EPS_DECAY = 200  # e-greedy threshold decay\n",
    "GAMMA = 0.8  # Q-learning discount factor\n",
    "LR = 0.001  # NN optimizer learning rate\n",
    "HIDDEN_LAYER = 256  # NN hidden layer size\n",
    "BATCH_SIZE = 3  # Q-learning batch size\n",
    "\n",
    "# if gpu is to be used\n",
    "use_cuda = torch.cuda.is_available()\n",
    "FloatTensor = torch.cuda.FloatTensor if use_cuda else torch.FloatTensor\n",
    "LongTensor = torch.cuda.LongTensor if use_cuda else torch.LongTensor\n",
    "ByteTensor = torch.cuda.ByteTensor if use_cuda else torch.ByteTensor\n",
    "Tensor = FloatTensor\n",
    "\n"
   ]
  },
  {
   "cell_type": "code",
   "execution_count": 3,
   "metadata": {},
   "outputs": [],
   "source": [
    "class ReplayMemory:\n",
    "    def __init__(self, capacity):\n",
    "        self.capacity = capacity\n",
    "        self.memory = []\n",
    "\n",
    "    def push(self, transition):\n",
    "        self.memory.append(transition)\n",
    "        if len(self.memory) > self.capacity:\n",
    "            del self.memory[0]\n",
    "\n",
    "    def sample(self, batch_size):\n",
    "        return random.sample(self.memory, batch_size)\n",
    "\n",
    "    def __len__(self):\n",
    "        return len(self.memory)\n",
    "\n",
    "    "
   ]
  },
  {
   "cell_type": "code",
   "execution_count": 4,
   "metadata": {},
   "outputs": [],
   "source": [
    "class Network(nn.Module):\n",
    "    def __init__(self):\n",
    "        nn.Module.__init__(self)\n",
    "        self.l1 = nn.Linear(4, HIDDEN_LAYER)\n",
    "        self.l2 = nn.Linear(HIDDEN_LAYER, 2)\n",
    "\n",
    "    def forward(self, x):\n",
    "        x = F.relu(self.l1(x))\n",
    "        x = self.l2(x)\n",
    "        return x\n",
    "    "
   ]
  },
  {
   "cell_type": "code",
   "execution_count": 5,
   "metadata": {},
   "outputs": [],
   "source": [
    "env = gym.make('CartPole-v0')\n",
    "#env = wrappers.Monitor(env, './tmp/cartpole-v0-1')\n",
    "\n",
    "model = Network()\n",
    "if use_cuda:\n",
    "    model.cuda()\n",
    "memory = ReplayMemory(10000)\n",
    "optimizer = optim.Adam(model.parameters(), LR)\n",
    "steps_done = 0\n",
    "episode_durations = []\n",
    "\n"
   ]
  },
  {
   "cell_type": "code",
   "execution_count": 6,
   "metadata": {},
   "outputs": [],
   "source": [
    "def select_action(state):\n",
    "    global steps_done\n",
    "    sample = random.random()\n",
    "    eps_threshold = EPS_END + (EPS_START - EPS_END) * math.exp(-1. * steps_done / EPS_DECAY)\n",
    "    steps_done += 1\n",
    "    if sample > eps_threshold:\n",
    "        return model(Variable(state, volatile=True).type(FloatTensor)).data.max(1)[1].view(1, 1)\n",
    "    else:\n",
    "        return LongTensor([[random.randrange(2)]])\n",
    "    "
   ]
  },
  {
   "cell_type": "code",
   "execution_count": 7,
   "metadata": {},
   "outputs": [],
   "source": [
    "def run_episode(e, environment):\n",
    "    state = environment.reset()\n",
    "    steps = 0\n",
    "    while True:\n",
    "        environment.render()\n",
    "        action = select_action(FloatTensor([state]))\n",
    "        next_state, reward, done, _ = environment.step(action[0, 0].item())\n",
    "\n",
    "        # negative reward when attempt ends\n",
    "        if done:\n",
    "            reward = -1\n",
    "\n",
    "        memory.push((FloatTensor([state]),\n",
    "                     action,  # action is already a tensor\n",
    "                     FloatTensor([next_state]),\n",
    "                     FloatTensor([reward])))\n",
    "\n",
    "       # learn()\n",
    "\n",
    "        state = next_state\n",
    "        steps += 1\n",
    "\n",
    "        if done:\n",
    "            print(\"{2} Episode {0} finished after {1} steps\"\n",
    "                  .format(e, steps, '\\033[92m' if steps >= 195 else '\\033[99m'))\n",
    "            episode_durations.append(steps)\n",
    "         #   plot_durations()\n",
    "            break\n"
   ]
  },
  {
   "cell_type": "code",
   "execution_count": 8,
   "metadata": {},
   "outputs": [],
   "source": [
    "\n",
    "memory.memory\n",
    "memory.memory=[]"
   ]
  },
  {
   "cell_type": "code",
   "execution_count": 9,
   "metadata": {},
   "outputs": [
    {
     "name": "stdout",
     "output_type": "stream",
     "text": [
      "\u001b[99m Episode 0 finished after 10 steps\n"
     ]
    },
    {
     "name": "stderr",
     "output_type": "stream",
     "text": [
      "/home/yan/myProjects/dqn/dqn_pytorch_cartpole/lib/python3.7/site-packages/ipykernel_launcher.py:7: UserWarning: volatile was removed and now has no effect. Use `with torch.no_grad():` instead.\n",
      "  import sys\n"
     ]
    }
   ],
   "source": [
    "for e in range(1):\n",
    "    run_episode(e,env)"
   ]
  },
  {
   "cell_type": "code",
   "execution_count": 10,
   "metadata": {},
   "outputs": [
    {
     "data": {
      "text/plain": [
       "[(tensor([[-0.0424,  0.0421,  0.0168, -0.0414]]),\n",
       "  tensor([[1]]),\n",
       "  tensor([[-0.0416,  0.2370,  0.0160, -0.3287]]),\n",
       "  tensor([1.])),\n",
       " (tensor([[-0.0416,  0.2370,  0.0160, -0.3287]]),\n",
       "  tensor([[1]]),\n",
       "  tensor([[-0.0369,  0.4319,  0.0094, -0.6163]]),\n",
       "  tensor([1.])),\n",
       " (tensor([[-0.0369,  0.4319,  0.0094, -0.6163]]),\n",
       "  tensor([[1]]),\n",
       "  tensor([[-0.0282,  0.6268, -0.0029, -0.9060]]),\n",
       "  tensor([1.])),\n",
       " (tensor([[-0.0282,  0.6268, -0.0029, -0.9060]]),\n",
       "  tensor([[1]]),\n",
       "  tensor([[-0.0157,  0.8220, -0.0210, -1.1996]]),\n",
       "  tensor([1.])),\n",
       " (tensor([[-0.0157,  0.8220, -0.0210, -1.1996]]),\n",
       "  tensor([[1]]),\n",
       "  tensor([[ 7.5451e-04,  1.0174e+00, -4.5002e-02, -1.4988e+00]]),\n",
       "  tensor([1.])),\n",
       " (tensor([[ 7.5451e-04,  1.0174e+00, -4.5002e-02, -1.4988e+00]]),\n",
       "  tensor([[1]]),\n",
       "  tensor([[ 0.0211,  1.2130, -0.0750, -1.8052]]),\n",
       "  tensor([1.])),\n",
       " (tensor([[ 0.0211,  1.2130, -0.0750, -1.8052]]),\n",
       "  tensor([[1]]),\n",
       "  tensor([[ 0.0454,  1.4089, -0.1111, -2.1202]]),\n",
       "  tensor([1.])),\n",
       " (tensor([[ 0.0454,  1.4089, -0.1111, -2.1202]]),\n",
       "  tensor([[1]]),\n",
       "  tensor([[ 0.0735,  1.6050, -0.1535, -2.4450]]),\n",
       "  tensor([1.])),\n",
       " (tensor([[ 0.0735,  1.6050, -0.1535, -2.4450]]),\n",
       "  tensor([[1]]),\n",
       "  tensor([[ 0.1056,  1.8010, -0.2024, -2.7806]]),\n",
       "  tensor([1.])),\n",
       " (tensor([[ 0.1056,  1.8010, -0.2024, -2.7806]]),\n",
       "  tensor([[0]]),\n",
       "  tensor([[ 0.1417,  1.6078, -0.2580, -2.5557]]),\n",
       "  tensor([-1.]))]"
      ]
     },
     "execution_count": 10,
     "metadata": {},
     "output_type": "execute_result"
    }
   ],
   "source": [
    "memory.memory"
   ]
  },
  {
   "cell_type": "code",
   "execution_count": 11,
   "metadata": {},
   "outputs": [
    {
     "data": {
      "text/plain": [
       "[(tensor([[ 0.0211,  1.2130, -0.0750, -1.8052]]),\n",
       "  tensor([[1]]),\n",
       "  tensor([[ 0.0454,  1.4089, -0.1111, -2.1202]]),\n",
       "  tensor([1.])),\n",
       " (tensor([[-0.0369,  0.4319,  0.0094, -0.6163]]),\n",
       "  tensor([[1]]),\n",
       "  tensor([[-0.0282,  0.6268, -0.0029, -0.9060]]),\n",
       "  tensor([1.])),\n",
       " (tensor([[ 0.0454,  1.4089, -0.1111, -2.1202]]),\n",
       "  tensor([[1]]),\n",
       "  tensor([[ 0.0735,  1.6050, -0.1535, -2.4450]]),\n",
       "  tensor([1.]))]"
      ]
     },
     "execution_count": 11,
     "metadata": {},
     "output_type": "execute_result"
    }
   ],
   "source": [
    "transitions=memory.sample(BATCH_SIZE)\n",
    "transitions"
   ]
  },
  {
   "cell_type": "code",
   "execution_count": 12,
   "metadata": {},
   "outputs": [
    {
     "data": {
      "text/plain": [
       "((tensor([[ 0.0211,  1.2130, -0.0750, -1.8052]]),\n",
       "  tensor([[-0.0369,  0.4319,  0.0094, -0.6163]]),\n",
       "  tensor([[ 0.0454,  1.4089, -0.1111, -2.1202]])),\n",
       " (tensor([[1]]), tensor([[1]]), tensor([[1]])),\n",
       " (tensor([[ 0.0454,  1.4089, -0.1111, -2.1202]]),\n",
       "  tensor([[-0.0282,  0.6268, -0.0029, -0.9060]]),\n",
       "  tensor([[ 0.0735,  1.6050, -0.1535, -2.4450]])),\n",
       " (tensor([1.]), tensor([1.]), tensor([1.])))"
      ]
     },
     "execution_count": 12,
     "metadata": {},
     "output_type": "execute_result"
    }
   ],
   "source": [
    "batch_state,batch_action,batch_next_state,batch_reward=zip(*transitions)\n",
    "batch_state,batch_action,batch_next_state,batch_reward"
   ]
  },
  {
   "cell_type": "code",
   "execution_count": 13,
   "metadata": {},
   "outputs": [],
   "source": [
    "batch_state = Variable(torch.cat(batch_state))\n",
    "batch_action = Variable(torch.cat(batch_action))\n",
    "batch_reward = Variable(torch.cat(batch_reward))\n",
    "batch_next_state = Variable(torch.cat(batch_next_state))"
   ]
  },
  {
   "cell_type": "code",
   "execution_count": 14,
   "metadata": {},
   "outputs": [
    {
     "name": "stdout",
     "output_type": "stream",
     "text": [
      "model_output= tensor([[ 0.0976,  0.6439],\n",
      "        [-0.0355,  0.3416],\n",
      "        [ 0.1115,  0.7360]], grad_fn=<AddmmBackward>)\n"
     ]
    }
   ],
   "source": [
    "model_output=model(batch_state)\n",
    "print(\"model_output=\",model_output)\n"
   ]
  },
  {
   "cell_type": "code",
   "execution_count": 16,
   "metadata": {},
   "outputs": [],
   "source": [
    "current_q_values=model_output.gather(1,batch_action)"
   ]
  },
  {
   "cell_type": "code",
   "execution_count": 17,
   "metadata": {},
   "outputs": [
    {
     "name": "stdout",
     "output_type": "stream",
     "text": [
      "current_q_values= tensor([[0.6439],\n",
      "        [0.3416],\n",
      "        [0.7360]], grad_fn=<GatherBackward>)\n"
     ]
    }
   ],
   "source": [
    "print(\"current_q_values=\",current_q_values)"
   ]
  },
  {
   "cell_type": "code",
   "execution_count": null,
   "metadata": {},
   "outputs": [],
   "source": []
  }
 ],
 "metadata": {
  "kernelspec": {
   "display_name": "Python 3",
   "language": "python",
   "name": "python3"
  },
  "language_info": {
   "codemirror_mode": {
    "name": "ipython",
    "version": 3
   },
   "file_extension": ".py",
   "mimetype": "text/x-python",
   "name": "python",
   "nbconvert_exporter": "python",
   "pygments_lexer": "ipython3",
   "version": "3.7.5"
  }
 },
 "nbformat": 4,
 "nbformat_minor": 4
}
