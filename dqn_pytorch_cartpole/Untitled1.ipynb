{
 "cells": [
  {
   "cell_type": "code",
   "execution_count": 1,
   "metadata": {},
   "outputs": [],
   "source": [
    "import gym\n",
    "from gym import wrappers\n",
    "import random\n",
    "import math\n",
    "import torch\n",
    "import torch.nn as nn\n",
    "import torch.optim as optim\n",
    "from torch.autograd import Variable\n",
    "import torch.nn.functional as F\n",
    "import matplotlib.pyplot as plt"
   ]
  },
  {
   "cell_type": "code",
   "execution_count": 9,
   "metadata": {},
   "outputs": [],
   "source": [
    "# hyper parameters\n",
    "EPISODES = 200  # number of episodes\n",
    "EPS_START = 0.9  # e-greedy threshold start value\n",
    "EPS_END = 0.05  # e-greedy threshold end value\n",
    "EPS_DECAY = 200  # e-greedy threshold decay\n",
    "GAMMA = 0.8  # Q-learning discount factor\n",
    "LR = 0.001  # NN optimizer learning rate\n",
    "HIDDEN_LAYER = 256  # NN hidden layer size\n",
    "BATCH_SIZE = 3  # Q-learning batch size\n",
    "\n",
    "# if gpu is to be used\n",
    "use_cuda = torch.cuda.is_available()\n",
    "FloatTensor = torch.cuda.FloatTensor if use_cuda else torch.FloatTensor\n",
    "LongTensor = torch.cuda.LongTensor if use_cuda else torch.LongTensor\n",
    "ByteTensor = torch.cuda.ByteTensor if use_cuda else torch.ByteTensor\n",
    "Tensor = FloatTensor\n",
    "\n"
   ]
  },
  {
   "cell_type": "code",
   "execution_count": 3,
   "metadata": {},
   "outputs": [],
   "source": [
    "class ReplayMemory:\n",
    "    def __init__(self, capacity):\n",
    "        self.capacity = capacity\n",
    "        self.memory = []\n",
    "\n",
    "    def push(self, transition):\n",
    "        self.memory.append(transition)\n",
    "        if len(self.memory) > self.capacity:\n",
    "            del self.memory[0]\n",
    "\n",
    "    def sample(self, batch_size):\n",
    "        return random.sample(self.memory, batch_size)\n",
    "\n",
    "    def __len__(self):\n",
    "        return len(self.memory)\n",
    "\n",
    "    "
   ]
  },
  {
   "cell_type": "code",
   "execution_count": 4,
   "metadata": {},
   "outputs": [],
   "source": [
    "class Network(nn.Module):\n",
    "    def __init__(self):\n",
    "        nn.Module.__init__(self)\n",
    "        self.l1 = nn.Linear(4, HIDDEN_LAYER)\n",
    "        self.l2 = nn.Linear(HIDDEN_LAYER, 2)\n",
    "\n",
    "    def forward(self, x):\n",
    "        x = F.relu(self.l1(x))\n",
    "        x = self.l2(x)\n",
    "        return x\n",
    "    "
   ]
  },
  {
   "cell_type": "code",
   "execution_count": 13,
   "metadata": {},
   "outputs": [],
   "source": [
    "env = gym.make('CartPole-v0')\n",
    "#env = wrappers.Monitor(env, './tmp/cartpole-v0-1')\n",
    "\n",
    "model = Network()\n",
    "if use_cuda:\n",
    "    model.cuda()\n",
    "memory = ReplayMemory(10000)\n",
    "optimizer = optim.Adam(model.parameters(), LR)\n",
    "steps_done = 0\n",
    "episode_durations = []\n",
    "\n"
   ]
  },
  {
   "cell_type": "code",
   "execution_count": 6,
   "metadata": {},
   "outputs": [],
   "source": [
    "def select_action(state):\n",
    "    global steps_done\n",
    "    sample = random.random()\n",
    "    eps_threshold = EPS_END + (EPS_START - EPS_END) * math.exp(-1. * steps_done / EPS_DECAY)\n",
    "    steps_done += 1\n",
    "    if sample > eps_threshold:\n",
    "        return model(Variable(state, volatile=True).type(FloatTensor)).data.max(1)[1].view(1, 1)\n",
    "    else:\n",
    "        return LongTensor([[random.randrange(2)]])\n",
    "    "
   ]
  },
  {
   "cell_type": "code",
   "execution_count": 16,
   "metadata": {},
   "outputs": [],
   "source": [
    "def run_episode(e, environment):\n",
    "    state = environment.reset()\n",
    "    steps = 0\n",
    "    while True:\n",
    "        environment.render()\n",
    "        action = select_action(FloatTensor([state]))\n",
    "        next_state, reward, done, _ = environment.step(action[0, 0].item())\n",
    "\n",
    "        # negative reward when attempt ends\n",
    "        if done:\n",
    "            reward = -1\n",
    "\n",
    "        memory.push((FloatTensor([state]),\n",
    "                     action,  # action is already a tensor\n",
    "                     FloatTensor([next_state]),\n",
    "                     FloatTensor([reward])))\n",
    "\n",
    "       # learn()\n",
    "\n",
    "        state = next_state\n",
    "        steps += 1\n",
    "\n",
    "        if done:\n",
    "            print(\"{2} Episode {0} finished after {1} steps\"\n",
    "                  .format(e, steps, '\\033[92m' if steps >= 195 else '\\033[99m'))\n",
    "            episode_durations.append(steps)\n",
    "         #   plot_durations()\n",
    "            break\n"
   ]
  },
  {
   "cell_type": "code",
   "execution_count": 14,
   "metadata": {},
   "outputs": [],
   "source": [
    "\n",
    "memory.memory\n",
    "memory.memory=[]"
   ]
  },
  {
   "cell_type": "code",
   "execution_count": 17,
   "metadata": {},
   "outputs": [
    {
     "name": "stdout",
     "output_type": "stream",
     "text": [
      "\u001b[99m Episode 0 finished after 11 steps\n"
     ]
    },
    {
     "name": "stderr",
     "output_type": "stream",
     "text": [
      "/home/dell/myProjects/dqn_cartpole/lib/python3.7/site-packages/ipykernel_launcher.py:7: UserWarning: volatile was removed and now has no effect. Use `with torch.no_grad():` instead.\n",
      "  import sys\n"
     ]
    }
   ],
   "source": [
    "for e in range(1):\n",
    "    run_episode(e,env)"
   ]
  },
  {
   "cell_type": "code",
   "execution_count": 18,
   "metadata": {},
   "outputs": [
    {
     "data": {
      "text/plain": [
       "[(tensor([[-0.0334, -0.0122, -0.0461, -0.0060]], device='cuda:0'),\n",
       "  tensor([[1]], device='cuda:0'),\n",
       "  tensor([[-0.0336,  0.1835, -0.0462, -0.3128]], device='cuda:0'),\n",
       "  tensor([1.], device='cuda:0')),\n",
       " (tensor([[-0.0336,  0.1835, -0.0462, -0.3128]], device='cuda:0'),\n",
       "  tensor([[0]], device='cuda:0'),\n",
       "  tensor([[-0.0299, -0.0109, -0.0524, -0.0351]], device='cuda:0'),\n",
       "  tensor([1.], device='cuda:0')),\n",
       " (tensor([[-0.0299, -0.0109, -0.0524, -0.0351]], device='cuda:0'),\n",
       "  tensor([[1]], device='cuda:0'),\n",
       "  tensor([[-0.0302,  0.1849, -0.0531, -0.3438]], device='cuda:0'),\n",
       "  tensor([1.], device='cuda:0')),\n",
       " (tensor([[-0.0302,  0.1849, -0.0531, -0.3438]], device='cuda:0'),\n",
       "  tensor([[1]], device='cuda:0'),\n",
       "  tensor([[-0.0265,  0.3807, -0.0600, -0.6528]], device='cuda:0'),\n",
       "  tensor([1.], device='cuda:0')),\n",
       " (tensor([[-0.0265,  0.3807, -0.0600, -0.6528]], device='cuda:0'),\n",
       "  tensor([[0]], device='cuda:0'),\n",
       "  tensor([[-0.0188,  0.1865, -0.0731, -0.3796]], device='cuda:0'),\n",
       "  tensor([1.], device='cuda:0')),\n",
       " (tensor([[-0.0188,  0.1865, -0.0731, -0.3796]], device='cuda:0'),\n",
       "  tensor([[1]], device='cuda:0'),\n",
       "  tensor([[-0.0151,  0.3826, -0.0807, -0.6944]], device='cuda:0'),\n",
       "  tensor([1.], device='cuda:0')),\n",
       " (tensor([[-0.0151,  0.3826, -0.0807, -0.6944]], device='cuda:0'),\n",
       "  tensor([[1]], device='cuda:0'),\n",
       "  tensor([[-0.0075,  0.5787, -0.0946, -1.0113]], device='cuda:0'),\n",
       "  tensor([1.], device='cuda:0')),\n",
       " (tensor([[-0.0075,  0.5787, -0.0946, -1.0113]], device='cuda:0'),\n",
       "  tensor([[1]], device='cuda:0'),\n",
       "  tensor([[ 0.0041,  0.7750, -0.1148, -1.3322]], device='cuda:0'),\n",
       "  tensor([1.], device='cuda:0')),\n",
       " (tensor([[ 0.0041,  0.7750, -0.1148, -1.3322]], device='cuda:0'),\n",
       "  tensor([[1]], device='cuda:0'),\n",
       "  tensor([[ 0.0196,  0.9713, -0.1414, -1.6584]], device='cuda:0'),\n",
       "  tensor([1.], device='cuda:0')),\n",
       " (tensor([[ 0.0196,  0.9713, -0.1414, -1.6584]], device='cuda:0'),\n",
       "  tensor([[1]], device='cuda:0'),\n",
       "  tensor([[ 0.0390,  1.1678, -0.1746, -1.9916]], device='cuda:0'),\n",
       "  tensor([1.], device='cuda:0')),\n",
       " (tensor([[ 0.0390,  1.1678, -0.1746, -1.9916]], device='cuda:0'),\n",
       "  tensor([[0]], device='cuda:0'),\n",
       "  tensor([[ 0.0624,  0.9749, -0.2144, -1.7577]], device='cuda:0'),\n",
       "  tensor([-1.], device='cuda:0'))]"
      ]
     },
     "execution_count": 18,
     "metadata": {},
     "output_type": "execute_result"
    }
   ],
   "source": [
    "memory.memory"
   ]
  },
  {
   "cell_type": "code",
   "execution_count": 20,
   "metadata": {},
   "outputs": [
    {
     "data": {
      "text/plain": [
       "[(tensor([[-0.0265,  0.3807, -0.0600, -0.6528]], device='cuda:0'),\n",
       "  tensor([[0]], device='cuda:0'),\n",
       "  tensor([[-0.0188,  0.1865, -0.0731, -0.3796]], device='cuda:0'),\n",
       "  tensor([1.], device='cuda:0')),\n",
       " (tensor([[ 0.0196,  0.9713, -0.1414, -1.6584]], device='cuda:0'),\n",
       "  tensor([[1]], device='cuda:0'),\n",
       "  tensor([[ 0.0390,  1.1678, -0.1746, -1.9916]], device='cuda:0'),\n",
       "  tensor([1.], device='cuda:0')),\n",
       " (tensor([[-0.0188,  0.1865, -0.0731, -0.3796]], device='cuda:0'),\n",
       "  tensor([[1]], device='cuda:0'),\n",
       "  tensor([[-0.0151,  0.3826, -0.0807, -0.6944]], device='cuda:0'),\n",
       "  tensor([1.], device='cuda:0'))]"
      ]
     },
     "execution_count": 20,
     "metadata": {},
     "output_type": "execute_result"
    }
   ],
   "source": [
    "transitions=memory.sample(BATCH_SIZE)\n",
    "transitions"
   ]
  },
  {
   "cell_type": "code",
   "execution_count": 21,
   "metadata": {},
   "outputs": [
    {
     "data": {
      "text/plain": [
       "((tensor([[-0.0265,  0.3807, -0.0600, -0.6528]], device='cuda:0'),\n",
       "  tensor([[ 0.0196,  0.9713, -0.1414, -1.6584]], device='cuda:0'),\n",
       "  tensor([[-0.0188,  0.1865, -0.0731, -0.3796]], device='cuda:0')),\n",
       " (tensor([[0]], device='cuda:0'),\n",
       "  tensor([[1]], device='cuda:0'),\n",
       "  tensor([[1]], device='cuda:0')),\n",
       " (tensor([[-0.0188,  0.1865, -0.0731, -0.3796]], device='cuda:0'),\n",
       "  tensor([[ 0.0390,  1.1678, -0.1746, -1.9916]], device='cuda:0'),\n",
       "  tensor([[-0.0151,  0.3826, -0.0807, -0.6944]], device='cuda:0')),\n",
       " (tensor([1.], device='cuda:0'),\n",
       "  tensor([1.], device='cuda:0'),\n",
       "  tensor([1.], device='cuda:0')))"
      ]
     },
     "execution_count": 21,
     "metadata": {},
     "output_type": "execute_result"
    }
   ],
   "source": [
    "batch_state,batch_action,batch_next_state,batch_reward=zip(*transitions)\n",
    "batch_state,batch_action,batch_next_state,batch_reward"
   ]
  },
  {
   "cell_type": "code",
   "execution_count": 23,
   "metadata": {},
   "outputs": [
    {
     "ename": "TypeError",
     "evalue": "cat(): argument 'tensors' (position 1) must be tuple of Tensors, not Tensor",
     "output_type": "error",
     "traceback": [
      "\u001b[0;31m---------------------------------------------------------------------------\u001b[0m",
      "\u001b[0;31mTypeError\u001b[0m                                 Traceback (most recent call last)",
      "\u001b[0;32m<ipython-input-23-76b960a8ed83>\u001b[0m in \u001b[0;36m<module>\u001b[0;34m\u001b[0m\n\u001b[0;32m----> 1\u001b[0;31m \u001b[0mbatch_state\u001b[0m \u001b[0;34m=\u001b[0m \u001b[0mVariable\u001b[0m\u001b[0;34m(\u001b[0m\u001b[0mtorch\u001b[0m\u001b[0;34m.\u001b[0m\u001b[0mcat\u001b[0m\u001b[0;34m(\u001b[0m\u001b[0mbatch_state\u001b[0m\u001b[0;34m)\u001b[0m\u001b[0;34m)\u001b[0m\u001b[0;34m\u001b[0m\u001b[0;34m\u001b[0m\u001b[0m\n\u001b[0m\u001b[1;32m      2\u001b[0m \u001b[0mbatch_action\u001b[0m \u001b[0;34m=\u001b[0m \u001b[0mVariable\u001b[0m\u001b[0;34m(\u001b[0m\u001b[0mtorch\u001b[0m\u001b[0;34m.\u001b[0m\u001b[0mcat\u001b[0m\u001b[0;34m(\u001b[0m\u001b[0mbatch_action\u001b[0m\u001b[0;34m)\u001b[0m\u001b[0;34m)\u001b[0m\u001b[0;34m\u001b[0m\u001b[0;34m\u001b[0m\u001b[0m\n\u001b[1;32m      3\u001b[0m \u001b[0mbatch_reward\u001b[0m \u001b[0;34m=\u001b[0m \u001b[0mVariable\u001b[0m\u001b[0;34m(\u001b[0m\u001b[0mtorch\u001b[0m\u001b[0;34m.\u001b[0m\u001b[0mcat\u001b[0m\u001b[0;34m(\u001b[0m\u001b[0mbatch_reward\u001b[0m\u001b[0;34m)\u001b[0m\u001b[0;34m)\u001b[0m\u001b[0;34m\u001b[0m\u001b[0;34m\u001b[0m\u001b[0m\n\u001b[1;32m      4\u001b[0m \u001b[0mbatch_next_state\u001b[0m \u001b[0;34m=\u001b[0m \u001b[0mVariable\u001b[0m\u001b[0;34m(\u001b[0m\u001b[0mtorch\u001b[0m\u001b[0;34m.\u001b[0m\u001b[0mcat\u001b[0m\u001b[0;34m(\u001b[0m\u001b[0mbatch_next_state\u001b[0m\u001b[0;34m)\u001b[0m\u001b[0;34m)\u001b[0m\u001b[0;34m\u001b[0m\u001b[0;34m\u001b[0m\u001b[0m\n",
      "\u001b[0;31mTypeError\u001b[0m: cat(): argument 'tensors' (position 1) must be tuple of Tensors, not Tensor"
     ]
    }
   ],
   "source": [
    "batch_state = Variable(torch.cat(batch_state))\n",
    "batch_action = Variable(torch.cat(batch_action))\n",
    "batch_reward = Variable(torch.cat(batch_reward))\n",
    "batch_next_state = Variable(torch.cat(batch_next_state))"
   ]
  },
  {
   "cell_type": "code",
   "execution_count": null,
   "metadata": {},
   "outputs": [],
   "source": []
  }
 ],
 "metadata": {
  "kernelspec": {
   "display_name": "Python 3",
   "language": "python",
   "name": "python3"
  },
  "language_info": {
   "codemirror_mode": {
    "name": "ipython",
    "version": 3
   },
   "file_extension": ".py",
   "mimetype": "text/x-python",
   "name": "python",
   "nbconvert_exporter": "python",
   "pygments_lexer": "ipython3",
   "version": "3.7.5"
  }
 },
 "nbformat": 4,
 "nbformat_minor": 4
}
