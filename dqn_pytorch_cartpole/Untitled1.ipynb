{
 "cells": [
  {
   "cell_type": "code",
   "execution_count": 1,
   "metadata": {},
   "outputs": [],
   "source": [
    "import gym\n",
    "from gym import wrappers\n",
    "import random\n",
    "import math\n",
    "import torch\n",
    "import torch.nn as nn\n",
    "import torch.optim as optim\n",
    "from torch.autograd import Variable\n",
    "import torch.nn.functional as F\n",
    "import matplotlib.pyplot as plt\n",
    "%config Completer.use_jedi = False"
   ]
  },
  {
   "cell_type": "code",
   "execution_count": 2,
   "metadata": {},
   "outputs": [],
   "source": [
    "# hyper parameters\n",
    "EPISODES = 200  # number of episodes\n",
    "EPS_START = 0.9  # e-greedy threshold start value\n",
    "EPS_END = 0.05  # e-greedy threshold end value\n",
    "EPS_DECAY = 200  # e-greedy threshold decay\n",
    "GAMMA = 0.8  # Q-learning discount factor\n",
    "LR = 0.001  # NN optimizer learning rate\n",
    "HIDDEN_LAYER = 256  # NN hidden layer size\n",
    "BATCH_SIZE = 3  # Q-learning batch size\n",
    "\n",
    "# if gpu is to be used\n",
    "use_cuda = torch.cuda.is_available()\n",
    "FloatTensor = torch.cuda.FloatTensor if use_cuda else torch.FloatTensor\n",
    "LongTensor = torch.cuda.LongTensor if use_cuda else torch.LongTensor\n",
    "ByteTensor = torch.cuda.ByteTensor if use_cuda else torch.ByteTensor\n",
    "Tensor = FloatTensor\n",
    "\n"
   ]
  },
  {
   "cell_type": "code",
   "execution_count": 3,
   "metadata": {},
   "outputs": [],
   "source": [
    "class ReplayMemory:\n",
    "    def __init__(self, capacity):\n",
    "        self.capacity = capacity\n",
    "        self.memory = []\n",
    "\n",
    "    def push(self, transition):\n",
    "        self.memory.append(transition)\n",
    "        if len(self.memory) > self.capacity:\n",
    "            del self.memory[0]\n",
    "\n",
    "    def sample(self, batch_size):\n",
    "        return random.sample(self.memory, batch_size)\n",
    "\n",
    "    def __len__(self):\n",
    "        return len(self.memory)\n",
    "\n",
    "    "
   ]
  },
  {
   "cell_type": "code",
   "execution_count": 4,
   "metadata": {},
   "outputs": [],
   "source": [
    "class Network(nn.Module):\n",
    "    def __init__(self):\n",
    "        nn.Module.__init__(self)\n",
    "        self.l1 = nn.Linear(4, HIDDEN_LAYER)\n",
    "        self.l2 = nn.Linear(HIDDEN_LAYER, 2)\n",
    "\n",
    "    def forward(self, x):\n",
    "        x = F.relu(self.l1(x))\n",
    "        x = self.l2(x)\n",
    "        return x\n",
    "    "
   ]
  },
  {
   "cell_type": "code",
   "execution_count": 5,
   "metadata": {},
   "outputs": [],
   "source": [
    "env = gym.make('CartPole-v0')\n",
    "#env = wrappers.Monitor(env, './tmp/cartpole-v0-1')\n",
    "\n",
    "model = Network()\n",
    "if use_cuda:\n",
    "    model.cuda()\n",
    "memory = ReplayMemory(10000)\n",
    "optimizer = optim.Adam(model.parameters(), LR)\n",
    "steps_done = 0\n",
    "episode_durations = []\n",
    "\n"
   ]
  },
  {
   "cell_type": "code",
   "execution_count": 6,
   "metadata": {},
   "outputs": [],
   "source": [
    "def select_action(state):\n",
    "    global steps_done\n",
    "    sample = random.random()\n",
    "    eps_threshold = EPS_END + (EPS_START - EPS_END) * math.exp(-1. * steps_done / EPS_DECAY)\n",
    "    steps_done += 1\n",
    "    if sample > eps_threshold:\n",
    "        return model(Variable(state, volatile=True).type(FloatTensor)).data.max(1)[1].view(1, 1)\n",
    "    else:\n",
    "        return LongTensor([[random.randrange(2)]])\n",
    "    "
   ]
  },
  {
   "cell_type": "code",
   "execution_count": 7,
   "metadata": {},
   "outputs": [],
   "source": [
    "def run_episode(e, environment):\n",
    "    state = environment.reset()\n",
    "    steps = 0\n",
    "    while True:\n",
    "        environment.render()\n",
    "        action = select_action(FloatTensor([state]))\n",
    "        next_state, reward, done, _ = environment.step(action[0, 0].item())\n",
    "\n",
    "        # negative reward when attempt ends\n",
    "        if done:\n",
    "            reward = -1\n",
    "\n",
    "        memory.push((FloatTensor([state]),\n",
    "                     action,  # action is already a tensor\n",
    "                     FloatTensor([next_state]),\n",
    "                     FloatTensor([reward])))\n",
    "\n",
    "       # learn()\n",
    "\n",
    "        state = next_state\n",
    "        steps += 1\n",
    "\n",
    "        if done:\n",
    "            print(\"{2} Episode {0} finished after {1} steps\"\n",
    "                  .format(e, steps, '\\033[92m' if steps >= 195 else '\\033[99m'))\n",
    "            episode_durations.append(steps)\n",
    "         #   plot_durations()\n",
    "            break\n"
   ]
  },
  {
   "cell_type": "code",
   "execution_count": 8,
   "metadata": {},
   "outputs": [],
   "source": [
    "\n",
    "memory.memory\n",
    "memory.memory=[]"
   ]
  },
  {
   "cell_type": "code",
   "execution_count": 9,
   "metadata": {},
   "outputs": [
    {
     "name": "stdout",
     "output_type": "stream",
     "text": [
      "\u001b[99m Episode 0 finished after 17 steps\n"
     ]
    },
    {
     "name": "stderr",
     "output_type": "stream",
     "text": [
      "/home/dell/myProjects/dqn/dqn_pytorch_cartpole/lib/python3.7/site-packages/ipykernel_launcher.py:7: UserWarning: volatile was removed and now has no effect. Use `with torch.no_grad():` instead.\n",
      "  import sys\n"
     ]
    }
   ],
   "source": [
    "for e in range(1):\n",
    "    run_episode(e,env)"
   ]
  },
  {
   "cell_type": "code",
   "execution_count": 10,
   "metadata": {},
   "outputs": [
    {
     "data": {
      "text/plain": [
       "[(tensor([[0.0134, 0.0430, 0.0067, 0.0092]], device='cuda:0'),\n",
       "  tensor([[1]], device='cuda:0'),\n",
       "  tensor([[ 0.0143,  0.2381,  0.0069, -0.2814]], device='cuda:0'),\n",
       "  tensor([1.], device='cuda:0')),\n",
       " (tensor([[ 0.0143,  0.2381,  0.0069, -0.2814]], device='cuda:0'),\n",
       "  tensor([[0]], device='cuda:0'),\n",
       "  tensor([[0.0191, 0.0428, 0.0013, 0.0135]], device='cuda:0'),\n",
       "  tensor([1.], device='cuda:0')),\n",
       " (tensor([[0.0191, 0.0428, 0.0013, 0.0135]], device='cuda:0'),\n",
       "  tensor([[0]], device='cuda:0'),\n",
       "  tensor([[ 0.0199, -0.1523,  0.0015,  0.3065]], device='cuda:0'),\n",
       "  tensor([1.], device='cuda:0')),\n",
       " (tensor([[ 0.0199, -0.1523,  0.0015,  0.3065]], device='cuda:0'),\n",
       "  tensor([[0]], device='cuda:0'),\n",
       "  tensor([[ 0.0169, -0.3474,  0.0077,  0.5997]], device='cuda:0'),\n",
       "  tensor([1.], device='cuda:0')),\n",
       " (tensor([[ 0.0169, -0.3474,  0.0077,  0.5997]], device='cuda:0'),\n",
       "  tensor([[1]], device='cuda:0'),\n",
       "  tensor([[ 0.0099, -0.1524,  0.0197,  0.3095]], device='cuda:0'),\n",
       "  tensor([1.], device='cuda:0')),\n",
       " (tensor([[ 0.0099, -0.1524,  0.0197,  0.3095]], device='cuda:0'),\n",
       "  tensor([[0]], device='cuda:0'),\n",
       "  tensor([[ 0.0069, -0.3478,  0.0259,  0.6083]], device='cuda:0'),\n",
       "  tensor([1.], device='cuda:0')),\n",
       " (tensor([[ 0.0069, -0.3478,  0.0259,  0.6083]], device='cuda:0'),\n",
       "  tensor([[0]], device='cuda:0'),\n",
       "  tensor([[-7.9909e-05, -5.4329e-01,  3.8027e-02,  9.0900e-01]], device='cuda:0'),\n",
       "  tensor([1.], device='cuda:0')),\n",
       " (tensor([[-7.9909e-05, -5.4329e-01,  3.8027e-02,  9.0900e-01]], device='cuda:0'),\n",
       "  tensor([[1]], device='cuda:0'),\n",
       "  tensor([[-0.0109, -0.3487,  0.0562,  0.6285]], device='cuda:0'),\n",
       "  tensor([1.], device='cuda:0')),\n",
       " (tensor([[-0.0109, -0.3487,  0.0562,  0.6285]], device='cuda:0'),\n",
       "  tensor([[0]], device='cuda:0'),\n",
       "  tensor([[-0.0179, -0.5446,  0.0688,  0.9383]], device='cuda:0'),\n",
       "  tensor([1.], device='cuda:0')),\n",
       " (tensor([[-0.0179, -0.5446,  0.0688,  0.9383]], device='cuda:0'),\n",
       "  tensor([[1]], device='cuda:0'),\n",
       "  tensor([[-0.0288, -0.3504,  0.0875,  0.6680]], device='cuda:0'),\n",
       "  tensor([1.], device='cuda:0')),\n",
       " (tensor([[-0.0288, -0.3504,  0.0875,  0.6680]], device='cuda:0'),\n",
       "  tensor([[0]], device='cuda:0'),\n",
       "  tensor([[-0.0358, -0.5467,  0.1009,  0.9870]], device='cuda:0'),\n",
       "  tensor([1.], device='cuda:0')),\n",
       " (tensor([[-0.0358, -0.5467,  0.1009,  0.9870]], device='cuda:0'),\n",
       "  tensor([[1]], device='cuda:0'),\n",
       "  tensor([[-0.0468, -0.3530,  0.1206,  0.7276]], device='cuda:0'),\n",
       "  tensor([1.], device='cuda:0')),\n",
       " (tensor([[-0.0468, -0.3530,  0.1206,  0.7276]], device='cuda:0'),\n",
       "  tensor([[0]], device='cuda:0'),\n",
       "  tensor([[-0.0538, -0.5496,  0.1352,  1.0557]], device='cuda:0'),\n",
       "  tensor([1.], device='cuda:0')),\n",
       " (tensor([[-0.0538, -0.5496,  0.1352,  1.0557]], device='cuda:0'),\n",
       "  tensor([[0]], device='cuda:0'),\n",
       "  tensor([[-0.0648, -0.7462,  0.1563,  1.3876]], device='cuda:0'),\n",
       "  tensor([1.], device='cuda:0')),\n",
       " (tensor([[-0.0648, -0.7462,  0.1563,  1.3876]], device='cuda:0'),\n",
       "  tensor([[1]], device='cuda:0'),\n",
       "  tensor([[-0.0797, -0.5533,  0.1841,  1.1476]], device='cuda:0'),\n",
       "  tensor([1.], device='cuda:0')),\n",
       " (tensor([[-0.0797, -0.5533,  0.1841,  1.1476]], device='cuda:0'),\n",
       "  tensor([[1]], device='cuda:0'),\n",
       "  tensor([[-0.0908, -0.3610,  0.2070,  0.9178]], device='cuda:0'),\n",
       "  tensor([1.], device='cuda:0')),\n",
       " (tensor([[-0.0908, -0.3610,  0.2070,  0.9178]], device='cuda:0'),\n",
       "  tensor([[0]], device='cuda:0'),\n",
       "  tensor([[-0.0980, -0.5583,  0.2254,  1.2677]], device='cuda:0'),\n",
       "  tensor([-1.], device='cuda:0'))]"
      ]
     },
     "execution_count": 10,
     "metadata": {},
     "output_type": "execute_result"
    }
   ],
   "source": [
    "memory.memory"
   ]
  },
  {
   "cell_type": "code",
   "execution_count": 11,
   "metadata": {},
   "outputs": [
    {
     "data": {
      "text/plain": [
       "[(tensor([[-0.0358, -0.5467,  0.1009,  0.9870]], device='cuda:0'),\n",
       "  tensor([[1]], device='cuda:0'),\n",
       "  tensor([[-0.0468, -0.3530,  0.1206,  0.7276]], device='cuda:0'),\n",
       "  tensor([1.], device='cuda:0')),\n",
       " (tensor([[-0.0648, -0.7462,  0.1563,  1.3876]], device='cuda:0'),\n",
       "  tensor([[1]], device='cuda:0'),\n",
       "  tensor([[-0.0797, -0.5533,  0.1841,  1.1476]], device='cuda:0'),\n",
       "  tensor([1.], device='cuda:0')),\n",
       " (tensor([[-7.9909e-05, -5.4329e-01,  3.8027e-02,  9.0900e-01]], device='cuda:0'),\n",
       "  tensor([[1]], device='cuda:0'),\n",
       "  tensor([[-0.0109, -0.3487,  0.0562,  0.6285]], device='cuda:0'),\n",
       "  tensor([1.], device='cuda:0'))]"
      ]
     },
     "execution_count": 11,
     "metadata": {},
     "output_type": "execute_result"
    }
   ],
   "source": [
    "transitions=memory.sample(BATCH_SIZE)\n",
    "transitions"
   ]
  },
  {
   "cell_type": "code",
   "execution_count": 12,
   "metadata": {},
   "outputs": [
    {
     "data": {
      "text/plain": [
       "((tensor([[-0.0358, -0.5467,  0.1009,  0.9870]], device='cuda:0'),\n",
       "  tensor([[-0.0648, -0.7462,  0.1563,  1.3876]], device='cuda:0'),\n",
       "  tensor([[-7.9909e-05, -5.4329e-01,  3.8027e-02,  9.0900e-01]], device='cuda:0')),\n",
       " (tensor([[1]], device='cuda:0'),\n",
       "  tensor([[1]], device='cuda:0'),\n",
       "  tensor([[1]], device='cuda:0')),\n",
       " (tensor([[-0.0468, -0.3530,  0.1206,  0.7276]], device='cuda:0'),\n",
       "  tensor([[-0.0797, -0.5533,  0.1841,  1.1476]], device='cuda:0'),\n",
       "  tensor([[-0.0109, -0.3487,  0.0562,  0.6285]], device='cuda:0')),\n",
       " (tensor([1.], device='cuda:0'),\n",
       "  tensor([1.], device='cuda:0'),\n",
       "  tensor([1.], device='cuda:0')))"
      ]
     },
     "execution_count": 12,
     "metadata": {},
     "output_type": "execute_result"
    }
   ],
   "source": [
    "batch_state,batch_action,batch_next_state,batch_reward=zip(*transitions)\n",
    "batch_state,batch_action,batch_next_state,batch_reward"
   ]
  },
  {
   "cell_type": "code",
   "execution_count": 13,
   "metadata": {},
   "outputs": [],
   "source": [
    "batch_state = Variable(torch.cat(batch_state))\n",
    "batch_action = Variable(torch.cat(batch_action))\n",
    "batch_reward = Variable(torch.cat(batch_reward))\n",
    "batch_next_state = Variable(torch.cat(batch_next_state))"
   ]
  },
  {
   "cell_type": "code",
   "execution_count": 14,
   "metadata": {},
   "outputs": [
    {
     "name": "stdout",
     "output_type": "stream",
     "text": [
      "model_output= tensor([[-0.4473,  0.0666],\n",
      "        [-0.4570,  0.0778],\n",
      "        [-0.4510,  0.0590]], device='cuda:0', grad_fn=<AddmmBackward>)\n"
     ]
    }
   ],
   "source": [
    "model_output=model(batch_state)\n",
    "print(\"model_output=\",model_output)\n"
   ]
  },
  {
   "cell_type": "code",
   "execution_count": 15,
   "metadata": {},
   "outputs": [],
   "source": [
    "current_q_values=model_output.gather(1,batch_action)"
   ]
  },
  {
   "cell_type": "code",
   "execution_count": 16,
   "metadata": {},
   "outputs": [
    {
     "name": "stdout",
     "output_type": "stream",
     "text": [
      "current_q_values= tensor([[0.0666],\n",
      "        [0.0778],\n",
      "        [0.0590]], device='cuda:0', grad_fn=<GatherBackward>)\n"
     ]
    }
   ],
   "source": [
    "print(\"current_q_values=\",current_q_values)"
   ]
  },
  {
   "cell_type": "code",
   "execution_count": 17,
   "metadata": {},
   "outputs": [],
   "source": [
    "max_next_q_values = model(batch_next_state).detach().max(1)[0]\n",
    "expected_q_values = batch_reward + (GAMMA * max_next_q_values)"
   ]
  },
  {
   "cell_type": "code",
   "execution_count": 19,
   "metadata": {},
   "outputs": [
    {
     "data": {
      "text/plain": [
       "tensor([1.0737, 1.0683, 1.0644], device='cuda:0')"
      ]
     },
     "execution_count": 19,
     "metadata": {},
     "output_type": "execute_result"
    }
   ],
   "source": [
    "expected_q_values"
   ]
  },
  {
   "cell_type": "code",
   "execution_count": 20,
   "metadata": {},
   "outputs": [
    {
     "name": "stderr",
     "output_type": "stream",
     "text": [
      "/home/dell/myProjects/dqn/dqn_pytorch_cartpole/lib/python3.7/site-packages/ipykernel_launcher.py:1: UserWarning: Using a target size (torch.Size([3])) that is different to the input size (torch.Size([3, 1])). This will likely lead to incorrect results due to broadcasting. Please ensure they have the same size.\n",
      "  \"\"\"Entry point for launching an IPython kernel.\n"
     ]
    }
   ],
   "source": [
    "loss = F.smooth_l1_loss(current_q_values, expected_q_values)"
   ]
  },
  {
   "cell_type": "code",
   "execution_count": 21,
   "metadata": {},
   "outputs": [
    {
     "data": {
      "text/plain": [
       "tensor([[0.0666],\n",
       "        [0.0778],\n",
       "        [0.0590]], device='cuda:0', grad_fn=<GatherBackward>)"
      ]
     },
     "execution_count": 21,
     "metadata": {},
     "output_type": "execute_result"
    }
   ],
   "source": [
    "current_q_values"
   ]
  },
  {
   "cell_type": "code",
   "execution_count": 26,
   "metadata": {},
   "outputs": [
    {
     "data": {
      "text/plain": [
       "tensor([[0.0666],\n",
       "        [0.0778],\n",
       "        [0.0590]], device='cuda:0')"
      ]
     },
     "execution_count": 26,
     "metadata": {},
     "output_type": "execute_result"
    }
   ],
   "source": [
    "current_q_values.detach()\n"
   ]
  },
  {
   "cell_type": "code",
   "execution_count": null,
   "metadata": {},
   "outputs": [],
   "source": []
  }
 ],
 "metadata": {
  "kernelspec": {
   "display_name": "Python 3",
   "language": "python",
   "name": "python3"
  },
  "language_info": {
   "codemirror_mode": {
    "name": "ipython",
    "version": 3
   },
   "file_extension": ".py",
   "mimetype": "text/x-python",
   "name": "python",
   "nbconvert_exporter": "python",
   "pygments_lexer": "ipython3",
   "version": "3.7.5"
  }
 },
 "nbformat": 4,
 "nbformat_minor": 4
}
